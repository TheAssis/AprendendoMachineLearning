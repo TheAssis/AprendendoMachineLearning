{
  "nbformat": 4,
  "nbformat_minor": 0,
  "metadata": {
    "colab": {
      "name": "My_MLPColorSensorClassifier.ipynb",
      "version": "0.3.2",
      "provenance": [],
      "collapsed_sections": []
    },
    "kernelspec": {
      "name": "python3",
      "display_name": "Python 3"
    }
  },
  "cells": [
    {
      "metadata": {
        "id": "PJoTxKru_jpa",
        "colab_type": "text"
      },
      "cell_type": "markdown",
      "source": [
        "# Classificador de cores (sensor TCS230) usando MLP\n",
        "\n",
        "Abaixo temos o código de treinamento da rede neural que classifica cores. Como podemos ver pela matriz de confusão, o resultado é satisfatório."
      ]
    },
    {
      "metadata": {
        "id": "3aRC3nuXTiiT",
        "colab_type": "code",
        "colab": {}
      },
      "cell_type": "code",
      "source": [
        "# Importando as bibliotecas e iniciando as variaveis com o caminho do dataset\n",
        "import numpy as np\n",
        "import os\n",
        "import tarfile\n",
        "from six.moves import urllib\n",
        "import csv\n",
        "\n",
        "FILE_TO_DOWNLOAD =  \"objetosECores.csv\"\n",
        "DOWNLOAD_ROOT = \"https://raw.githubusercontent.com/rodolfostark/ColorSensorMachineLearning/\"\n",
        "DATA_PATH = \"master/\"\n",
        "DATA_URL = DOWNLOAD_ROOT + DATA_PATH + FILE_TO_DOWNLOAD"
      ],
      "execution_count": 0,
      "outputs": []
    },
    {
      "metadata": {
        "id": "q53hU3PZTsvm",
        "colab_type": "code",
        "outputId": "55bd081a-a6f5-495f-8efd-38c6c1627bd9",
        "colab": {
          "base_uri": "https://localhost:8080/",
          "height": 35
        }
      },
      "cell_type": "code",
      "source": [
        "# Função que faz o download dos dados\n",
        "def fetch_data(data_url=DATA_URL, data_path=DATA_PATH, file_to_download=FILE_TO_DOWNLOAD):\n",
        "  if not os.path.isdir(data_path):\n",
        "    os.makedirs(data_path)\n",
        "  urllib.request.urlretrieve(data_url, data_path+file_to_download)\n",
        "  \n",
        "fetch_data()\n",
        "!ls master"
      ],
      "execution_count": 0,
      "outputs": [
        {
          "output_type": "stream",
          "text": [
            "objetosECores.csv\n"
          ],
          "name": "stdout"
        }
      ]
    },
    {
      "metadata": {
        "id": "-QKL9H_BUB37",
        "colab_type": "code",
        "colab": {}
      },
      "cell_type": "code",
      "source": [
        "# Prepadando os dados\n",
        "leitura = csv.reader(open('master/objetosECores.csv','r'))\n",
        "leitura = list(leitura)\n",
        "\n",
        "objetos_coloridos = list()\n",
        "y = list()\n",
        "\n",
        "for l in range(1, len(leitura)):\n",
        "  y.append(int(leitura[l][3]) + 1)\n",
        "\n",
        "for i in range(1, len(leitura)):\n",
        "  objetos_coloridos.append(leitura[i])\n",
        "  \n",
        "for j in range(0, len(objetos_coloridos)):\n",
        "  objetos_coloridos[j].pop()\n",
        "  for k in range(0, len(objetos_coloridos[j])):\n",
        "    objetos_coloridos[j][k] = float(objetos_coloridos[j][k]) \n",
        "    \n",
        "Y = np.array(y)\n",
        "X = np.array(objetos_coloridos)"
      ],
      "execution_count": 0,
      "outputs": []
    },
    {
      "metadata": {
        "id": "S1zb5DjNUotc",
        "colab_type": "code",
        "colab": {}
      },
      "cell_type": "code",
      "source": [
        "# Separando subconjuntos para treino e teste\n",
        "from sklearn.model_selection import train_test_split\n",
        "\n",
        "X_train, X_test, y_train, y_test = train_test_split(X, Y, test_size = 0.25, random_state = 0)"
      ],
      "execution_count": 0,
      "outputs": []
    },
    {
      "metadata": {
        "id": "e8SZpfOkVGkV",
        "colab_type": "code",
        "outputId": "0ae6b2a6-9002-4bd6-e39a-9cfce45e004b",
        "colab": {
          "base_uri": "https://localhost:8080/",
          "height": 35
        }
      },
      "cell_type": "code",
      "source": [
        "# Importado classificador\n",
        "from sklearn.neural_network import MLPClassifier\n",
        "clf = MLPClassifier(solver='lbfgs', alpha=1e-5, hidden_layer_sizes=(15,), random_state=1)\n",
        "clf.fit(X_train, y_train)\n",
        "clf.predict(X_test)"
      ],
      "execution_count": 0,
      "outputs": [
        {
          "output_type": "execute_result",
          "data": {
            "text/plain": [
              "array([2, 1, 2, 1, 0, 0, 1, 2, 2, 1, 0, 0, 1, 1])"
            ]
          },
          "metadata": {
            "tags": []
          },
          "execution_count": 6
        }
      ]
    },
    {
      "metadata": {
        "id": "t9H4qRSLVXu_",
        "colab_type": "code",
        "outputId": "ec49fd9e-6829-4df6-9dd7-03a7a50f4af4",
        "colab": {
          "base_uri": "https://localhost:8080/",
          "height": 71
        }
      },
      "cell_type": "code",
      "source": [
        "#importando matrix de confusão\n",
        "from sklearn.metrics import confusion_matrix\n",
        "\n",
        "y_pred = clf.predict(X_test)\n",
        "cm = confusion_matrix(y_test, y_pred)\n",
        "\n",
        "print(cm)"
      ],
      "execution_count": 0,
      "outputs": [
        {
          "output_type": "stream",
          "text": [
            "[[4 0 0]\n",
            " [0 6 0]\n",
            " [0 0 4]]\n"
          ],
          "name": "stdout"
        }
      ]
    }
  ]
}