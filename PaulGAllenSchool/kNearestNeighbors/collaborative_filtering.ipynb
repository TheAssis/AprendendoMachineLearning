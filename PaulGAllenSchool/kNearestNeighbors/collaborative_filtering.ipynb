{
  "nbformat": 4,
  "nbformat_minor": 0,
  "metadata": {
    "colab": {
      "name": "collaborative_filtering.ipynb",
      "provenance": [],
      "collapsed_sections": []
    },
    "kernelspec": {
      "name": "python3",
      "display_name": "Python 3"
    }
  },
  "cells": [
    {
      "cell_type": "markdown",
      "metadata": {
        "id": "3iQCT_EyVwYM",
        "colab_type": "text"
      },
      "source": [
        "## Codes"
      ]
    },
    {
      "cell_type": "markdown",
      "metadata": {
        "id": "ZdsqrTU6e6w_",
        "colab_type": "text"
      },
      "source": [
        "The steps to estimate the rating are:\n",
        "1. Define _active user_ (subscript a) and his/her _movie_ (subscript j) to be rated.\n",
        "2. Get all users' ID from the training set \n",
        "3. For each user, do:\n",
        "    - Get his/her votes (set of logs)\n",
        "    - If he/she voted in the _movie_ defined above, do:\n",
        "        - Get Movies both users (active one and training one) voted in and calculate ```w(a,i)``` and the difference between the user vote on the iterating movie and his/her average.\n",
        "4. Compute normalizing factor _k_.\n",
        "5. Estimate active user rate on _movie_.\n",
        "6. Return estimation"
      ]
    },
    {
      "cell_type": "code",
      "metadata": {
        "id": "BUZYxFBwul1T",
        "colab_type": "code",
        "colab": {}
      },
      "source": [
        "import numpy as np"
      ],
      "execution_count": 0,
      "outputs": []
    },
    {
      "cell_type": "markdown",
      "metadata": {
        "id": "2ZjvRNcD7l_-",
        "colab_type": "text"
      },
      "source": [
        "Our dataset have the users' id in the second column and the ratings in the last one. Let's define it."
      ]
    },
    {
      "cell_type": "code",
      "metadata": {
        "id": "9sJDJImVukYx",
        "colab_type": "code",
        "colab": {}
      },
      "source": [
        "user_column = 1\n",
        "ratings_column = 2\n",
        "movie_column = 0"
      ],
      "execution_count": 0,
      "outputs": []
    },
    {
      "cell_type": "code",
      "metadata": {
        "id": "0UZqYgkXy5QM",
        "colab_type": "code",
        "colab": {}
      },
      "source": [
        "def mtxslv_user_ratings(user_id, dataset):\n",
        "  \"\"\"\n",
        "  Receives user_id and dataset. Look for all\n",
        "  occurences of user_id in dataset and returns \n",
        "  such subset.\n",
        "\n",
        "  If no user_id is found, return an empty\n",
        "  numpy array. \n",
        "  \"\"\"\n",
        "  subset = [] # the same thing as I_i (set of item user_id has voted)\n",
        "  for it in range(0,np.shape(dataset)[0]):\n",
        "    if (dataset[it,user_column] == user_id):\n",
        "      subset.append(dataset[it,:].tolist())  \n",
        "  return np.array(subset)"
      ],
      "execution_count": 0,
      "outputs": []
    },
    {
      "cell_type": "code",
      "metadata": {
        "id": "N5F04eCgEXVg",
        "colab_type": "code",
        "colab": {}
      },
      "source": [
        "# Python program to illustrate the intersection \n",
        "# of two lists in most simple way \n",
        "# from https://www.geeksforgeeks.org/python-intersection-two-lists/\n",
        "def intersection(lst1, lst2): \n",
        "\tlst3 = [value for value in lst1 if value in lst2] \n",
        "\treturn lst3 "
      ],
      "execution_count": 0,
      "outputs": []
    },
    {
      "cell_type": "code",
      "metadata": {
        "id": "GVEsB2Tcg_Au",
        "colab_type": "code",
        "colab": {}
      },
      "source": [
        "def mtxslv_collab_filter(instance, product_id,training_set):\n",
        "  \"\"\"\n",
        "  Receives the instance (a set of logs), the product_id which estimation\n",
        "  needs to be calculated, and the training set (a bigger set of logs). All \n",
        "  parameters must be numpy. \n",
        "\n",
        "  The user in instance is the active one.\n",
        "\n",
        "  Returns the estimation of rating user in instance must give to product_id. \n",
        "  \"\"\"\n",
        "  training_set_list = training_set.tolist()\n",
        "  average_rating_active_user = np.mean(instance[:,ratings_column]) # \\overine{v_a}\n",
        "\n",
        "  w = [] # list of all weights/correlation measures\n",
        "  k = 0  # normalizing term\n",
        "  user_vote_minus_average = [] # v_ij - \\overline{v_i}\n",
        "\n",
        "  # let's get all user ids\n",
        "  user_ids = set(training_set[:,user_column])\n",
        "\n",
        "  # now iterate each, looking for those that haven't rated product_id\n",
        "  for user in user_ids:\n",
        "    user_subset = mtxslv_user_ratings(user,training_set)\n",
        "    #print(\"user \", user)\n",
        "    #print(user_subset)\n",
        "    if(user_subset[:,movie_column].tolist().count(product_id)): # has user voted product_id? If yes\n",
        "      #print(\"user \",user,\" has voted in product \", product_id)\n",
        "      user_average = np.mean(user_subset[:,ratings_column])   # get the average of this user ratings\n",
        "      #print(\"user \",user,\"has average \",user_average)\n",
        "      movies_both_users_voted = intersection(user_subset[:,movie_column].tolist(),\n",
        "                                             instance[:,movie_column].tolist()) # and calculate the movies this user and the active user rated\n",
        "      #print(\"movies both users voted:\",movies_both_users_voted)\n",
        "      user_index_product_id = user_subset[:,movie_column].tolist().index(product_id) # Calculate what index for user\n",
        "                                                                                     # is related to product_id \n",
        "      \n",
        "      w_numerator = 0                             # Numerator for w formula: \\sum_{}^{}\\mathop{}_{\\mkern-5mu j} (v_{a,j} - \\overline{v_a} )(v_{i,j} - \\overline{v_i})\n",
        "      w_active_denominator_factor = 0             # Active user factor for w denominator: \\sum_{}^{}\\mathop{}_{\\mkern-5mu j} (v_{a,j} - \\overline{v_a} )^2\n",
        "      w_training_usr_denominator_factor = 0       # Training user factor for w denominator: \\sum_{}^{}\\mathop{}_{\\mkern-5mu j} (v_{i,j} - \\overline{v_i} )^2\n",
        "\n",
        "      for movie in movies_both_users_voted: # Now, iterate over the movies both users rated \n",
        "        \n",
        "        training_user_index_for_movie = user_subset[:,movie_column].tolist().index(movie) # index of user vote for movie\n",
        "        active_user_index_for_movie = instance[:,movie_column].tolist().index(movie)      # index of active user vote for movie\n",
        "\n",
        "        w_numerator = w_numerator + (instance[active_user_index_for_movie,ratings_column]-average_rating_active_user)*(user_subset[training_user_index_for_movie,ratings_column]-user_average)\n",
        "        w_active_denominator_factor = w_active_denominator_factor + np.power((instance[active_user_index_for_movie,ratings_column]-average_rating_active_user),2)\n",
        "        w_training_usr_denominator_factor = w_training_usr_denominator_factor + np.power( (user_subset[training_user_index_for_movie,ratings_column]-user_average) ,2)\n",
        "\n",
        "      w.append(w_numerator/np.sqrt(w_active_denominator_factor*w_training_usr_denominator_factor))\n",
        "      user_vote_minus_average.append(user_subset[user_index_product_id,ratings_column]-user_average)\n",
        "\n",
        "  #print(w)    \n",
        "  k = 1 / np.sum( np.abs(w) )\n",
        "  #print(k)\n",
        "  #print(user_vote_minus_average)\n",
        "  estimation =  average_rating_active_user + k* np.dot(w,user_vote_minus_average) \n",
        "\n",
        "  return estimation\n"
      ],
      "execution_count": 0,
      "outputs": []
    },
    {
      "cell_type": "markdown",
      "metadata": {
        "id": "jvbGlZn8nOKo",
        "colab_type": "text"
      },
      "source": [
        "## REFERENCES:\n",
        "\n",
        "* https://stackoverflow.com/questions/21860605/python-remove-lists-from-list-of-lists-similar-functionality-to-pop\n",
        "\n",
        "* https://www.geeksforgeeks.org/python-intersection-two-lists/\n",
        "\n",
        "* https://www.programiz.com/python-programming/methods/list/index"
      ]
    }
  ]
}