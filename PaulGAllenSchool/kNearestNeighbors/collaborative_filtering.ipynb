{
  "nbformat": 4,
  "nbformat_minor": 0,
  "metadata": {
    "colab": {
      "name": "collaborative_filtering.ipynb",
      "provenance": [],
      "collapsed_sections": []
    },
    "kernelspec": {
      "name": "python3",
      "display_name": "Python 3"
    }
  },
  "cells": [
    {
      "cell_type": "markdown",
      "metadata": {
        "id": "-o8jsKYZmEnN",
        "colab_type": "text"
      },
      "source": [
        "## Introduction\n",
        "The following code is used to upload material from your local file system, [as seen here](https://colab.research.google.com/notebooks/io.ipynb#scrollTo=BaCkyg5CV5jF).\n",
        "\n",
        "Browse to your Netflix data and upload ```TestingRatings.txt``` and ```TrainingRatings.txt```\n",
        "\n",
        "The dataset lines is on the following format _MovieID_, _CustomerID_, _Rating_"
      ]
    },
    {
      "cell_type": "code",
      "metadata": {
        "id": "G_D5HGdsc9Hg",
        "colab_type": "code",
        "outputId": "0c8a805f-c89a-4bd3-c547-a9e302a7b5d3",
        "colab": {
          "resources": {
            "http://localhost:8080/nbextensions/google.colab/files.js": {
              "data": "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",
              "ok": true,
              "headers": [
                [
                  "content-type",
                  "application/javascript"
                ]
              ],
              "status": 200,
              "status_text": "OK"
            }
          },
          "base_uri": "https://localhost:8080/",
          "height": 152
        }
      },
      "source": [
        "from google.colab import files\n",
        " \n",
        "uploaded = files.upload()\n",
        "\n",
        "for fn in uploaded.keys():\n",
        "  print('User uploaded file \"{name}\" with length {length} bytes'.format(\n",
        "      name=fn, length=len(uploaded[fn])))"
      ],
      "execution_count": 0,
      "outputs": [
        {
          "output_type": "display_data",
          "data": {
            "text/html": [
              "\n",
              "     <input type=\"file\" id=\"files-cd8e9caa-77db-437c-adb0-f0b0dcabdf6a\" name=\"files[]\" multiple disabled />\n",
              "     <output id=\"result-cd8e9caa-77db-437c-adb0-f0b0dcabdf6a\">\n",
              "      Upload widget is only available when the cell has been executed in the\n",
              "      current browser session. Please rerun this cell to enable.\n",
              "      </output>\n",
              "      <script src=\"/nbextensions/google.colab/files.js\"></script> "
            ],
            "text/plain": [
              "<IPython.core.display.HTML object>"
            ]
          },
          "metadata": {
            "tags": []
          }
        },
        {
          "output_type": "stream",
          "text": [
            "Saving TestingRatings.txt to TestingRatings.txt\n",
            "Saving TrainingRatings.txt to TrainingRatings.txt\n",
            "User uploaded file \"TestingRatings.txt\" with length 1806166 bytes\n",
            "User uploaded file \"TrainingRatings.txt\" with length 58524008 bytes\n"
          ],
          "name": "stdout"
        }
      ]
    },
    {
      "cell_type": "markdown",
      "metadata": {
        "id": "kjIdvkSZ7eJI",
        "colab_type": "text"
      },
      "source": [
        "Below let's get the dataset as numpy bidimensional arrays."
      ]
    },
    {
      "cell_type": "code",
      "metadata": {
        "id": "OjH3lt6SuAzO",
        "colab_type": "code",
        "colab": {}
      },
      "source": [
        "import numpy as np\n",
        "\n",
        "training_ratings = np.loadtxt(\"TrainingRatings.txt\",delimiter=',')\n",
        "testing_ratings = np.loadtxt(\"TestingRatings.txt\",delimiter=',')"
      ],
      "execution_count": 0,
      "outputs": []
    },
    {
      "cell_type": "code",
      "metadata": {
        "id": "0MMcnIUQ51Mj",
        "colab_type": "code",
        "colab": {}
      },
      "source": [
        "import numpy as np"
      ],
      "execution_count": 0,
      "outputs": []
    },
    {
      "cell_type": "markdown",
      "metadata": {
        "id": "3iQCT_EyVwYM",
        "colab_type": "text"
      },
      "source": [
        "## Codes"
      ]
    },
    {
      "cell_type": "markdown",
      "metadata": {
        "id": "ZdsqrTU6e6w_",
        "colab_type": "text"
      },
      "source": [
        "The steps to estimate the rating are:\n",
        "1. Define _active user_ (subscript a) and his/her _movie_ (subscript j) to be rated.\n",
        "2. Get all users' ID from the training set \n",
        "3. For each user, do:\n",
        "    - Get his/her votes (set of logs)\n",
        "    - If he/she voted in the _movie_ defined above, do:\n",
        "        - Get Movies both users (active one and training one) voted in and calculate ```w(a,i)``` and the difference between the user vote on the iterating movie and his/her average.\n",
        "4. Compute normalizing factor _k_.\n",
        "5. Estimate active user rate on _movie_.\n",
        "6. Return estimation"
      ]
    },
    {
      "cell_type": "markdown",
      "metadata": {
        "id": "2ZjvRNcD7l_-",
        "colab_type": "text"
      },
      "source": [
        "Our dataset have the users' id in the second column and the ratings in the last one. Let's define it."
      ]
    },
    {
      "cell_type": "code",
      "metadata": {
        "id": "0UZqYgkXy5QM",
        "colab_type": "code",
        "colab": {}
      },
      "source": [
        "user_column = 1\n",
        "ratings_column = 2\n",
        "movie_column = 0\n",
        "\n",
        "def mtxslv_user_ratings(user_id, dataset):\n",
        "  \"\"\"\n",
        "  Receives user_id and dataset. Look for all\n",
        "  occurences of user_id in dataset and returns \n",
        "  such subset.\n",
        "\n",
        "  If no user_id is found, return an empty\n",
        "  numpy array. \n",
        "  \"\"\"\n",
        "  subset = [] # the same thing as I_i (set of item user_id has voted)\n",
        "  for it in range(0,np.shape(dataset)[0]):\n",
        "    if (dataset[it,user_column] == user_id):\n",
        "      subset.append(dataset[it,:].tolist())  \n",
        "  return np.array(subset)"
      ],
      "execution_count": 0,
      "outputs": []
    },
    {
      "cell_type": "markdown",
      "metadata": {
        "id": "gEvOWUzl7wYy",
        "colab_type": "text"
      },
      "source": [
        "Up to this point we can calculate the set of items user _i_ has voted:\n",
        " $$I_i$$\n",
        "\n",
        "The mean vote of user _i_ is $$\\overline{v_i}$$ and can be computed using the function ```np.mean()``` with argument the return of the function ```mtxslv_user_ratings(user_id, training_ratings) ``` (all the lines, column ```ratings_column```)\n",
        "\n",
        "\n"
      ]
    },
    {
      "cell_type": "markdown",
      "metadata": {
        "id": "oL5wmDfripA6",
        "colab_type": "text"
      },
      "source": [
        "Watch Out! Notice the following:\n",
        "* _User 1567095_ has voted 100 movies only;\n",
        "* _User 1174811_ has voted 224 movies.\n",
        "\n",
        "Then, not all movies were voted."
      ]
    },
    {
      "cell_type": "code",
      "metadata": {
        "id": "N5F04eCgEXVg",
        "colab_type": "code",
        "colab": {}
      },
      "source": [
        "# Python program to illustrate the intersection \n",
        "# of two lists in most simple way \n",
        "# from https://www.geeksforgeeks.org/python-intersection-two-lists/\n",
        "def intersection(lst1, lst2): \n",
        "\tlst3 = [value for value in lst1 if value in lst2] \n",
        "\treturn lst3 "
      ],
      "execution_count": 0,
      "outputs": []
    },
    {
      "cell_type": "code",
      "metadata": {
        "id": "GVEsB2Tcg_Au",
        "colab_type": "code",
        "colab": {}
      },
      "source": [
        "def mtxslv_collab_filter(instance, product_id,training_set):\n",
        "  \"\"\"\n",
        "  Receives the instance (a set of logs), the product_id which estimation\n",
        "  needs to be calculated, and the training set (a bigger set of logs). All \n",
        "  parameters must be numpy. \n",
        "\n",
        "  The user in instance is the active one.\n",
        "\n",
        "  Returns the estimation of rating user in instance must give to product_id. \n",
        "  \"\"\"\n",
        "  training_set_list = training_set.tolist()\n",
        "  average_rating_active_user = np.mean(instance[:,ratings_column]) # \\overine{v_a}\n",
        "\n",
        "  w = [] # list of all weights/correlation measures\n",
        "  k = 0  # normalizing term\n",
        "  user_vote_minus_average = [] # v_ij - \\overline{v_i}\n",
        "\n",
        "  # let's get all user ids\n",
        "  user_ids = set(training_set[:,user_column])\n",
        "\n",
        "  # now iterate each, looking for those that haven't rated product_id\n",
        "  for user in user_ids:\n",
        "    user_subset = mtxslv_user_ratings(user,training_set)\n",
        "    #print(\"user \", user)\n",
        "    #print(user_subset)\n",
        "    if(user_subset[:,movie_column].tolist().count(product_id)): # has user voted product_id? If yes\n",
        "      #print(\"user \",user,\" has voted in product \", product_id)\n",
        "      user_average = np.mean(user_subset[:,ratings_column])   # get the average of this user ratings\n",
        "      #print(\"user \",user,\"has average \",user_average)\n",
        "      movies_both_users_voted = intersection(user_subset[:,movie_column].tolist(),\n",
        "                                             instance[:,movie_column].tolist()) # and calculate the movies this user and the active user rated\n",
        "      #print(\"movies both users voted:\",movies_both_users_voted)\n",
        "      user_index_product_id = user_subset[:,movie_column].tolist().index(product_id) # Calculate what index for user\n",
        "                                                                                     # is related to product_id \n",
        "      \n",
        "      w_numerator = 0                             # Numerator for w formula: \\sum_{}^{}\\mathop{}_{\\mkern-5mu j} (v_{a,j} - \\overline{v_a} )(v_{i,j} - \\overline{v_i})\n",
        "      w_active_denominator_factor = 0             # Active user factor for w denominator: \\sum_{}^{}\\mathop{}_{\\mkern-5mu j} (v_{a,j} - \\overline{v_a} )^2\n",
        "      w_training_usr_denominator_factor = 0       # Training user factor for w denominator: \\sum_{}^{}\\mathop{}_{\\mkern-5mu j} (v_{i,j} - \\overline{v_i} )^2\n",
        "\n",
        "      for movie in movies_both_users_voted: # Now, iterate over the movies both users rated \n",
        "        \n",
        "        training_user_index_for_movie = user_subset[:,movie_column].tolist().index(movie) # index of user vote for movie\n",
        "        active_user_index_for_movie = instance[:,movie_column].tolist().index(movie)      # index of active user vote for movie\n",
        "\n",
        "        w_numerator = w_numerator + (instance[active_user_index_for_movie,ratings_column]-average_rating_active_user)*(user_subset[training_user_index_for_movie,ratings_column]-user_average)\n",
        "        w_active_denominator_factor = w_active_denominator_factor + np.power((instance[active_user_index_for_movie,ratings_column]-average_rating_active_user),2)\n",
        "        w_training_usr_denominator_factor = w_training_usr_denominator_factor + np.power( (user_subset[training_user_index_for_movie,ratings_column]-user_average) ,2)\n",
        "\n",
        "      w.append(w_numerator/np.sqrt(w_active_denominator_factor*w_training_usr_denominator_factor))\n",
        "      user_vote_minus_average.append(user_subset[user_index_product_id,ratings_column]-user_average)\n",
        "\n",
        "  #print(w)    \n",
        "  k = 1 / np.sum( np.abs(w) )\n",
        "  #print(k)\n",
        "  #print(user_vote_minus_average)\n",
        "  estimation =  average_rating_active_user + k* np.dot(w,user_vote_minus_average) \n",
        "\n",
        "  return estimation\n"
      ],
      "execution_count": 0,
      "outputs": []
    },
    {
      "cell_type": "markdown",
      "metadata": {
        "id": "TSlf0dYajV35",
        "colab_type": "text"
      },
      "source": [
        "## A Minor Example\n",
        "For an example, let's suppose the following dataset. \n",
        "* There are 6 products (R1,R2,R3,R4,R5 and R6);\n",
        "* There are 3 \"training set\" users (Bob, Chris and Diana).\n",
        "* The query instance is Alice's ratings.\n",
        "\n",
        "For the training dataset, the rows are the users, the columns the products."
      ]
    },
    {
      "cell_type": "code",
      "metadata": {
        "id": "Njw-F3u3jvSS",
        "colab_type": "code",
        "colab": {}
      },
      "source": [
        "a_minor_example_list = [[1,5,4,float(\"nan\"),3,4],\n",
        "                        [5,2,float(\"nan\"),2,1,float(\"nan\")],\n",
        "                        [3,float(\"nan\"),2,2,float(\"nan\"),4]]\n",
        "a_minor_example_dataset = np.array(a_minor_example_list)                        \n",
        "\n",
        "query_instance = [2,float(\"nan\"),4,4,float(\"nan\"),5]                 "
      ],
      "execution_count": 0,
      "outputs": []
    },
    {
      "cell_type": "markdown",
      "metadata": {
        "id": "KJVka8NoklEM",
        "colab_type": "text"
      },
      "source": [
        "We want to define Alice's rate on product 5 (fifth column). The manually calculated estimate is 4.336075363."
      ]
    },
    {
      "cell_type": "markdown",
      "metadata": {
        "id": "gyNFZD3LbVFO",
        "colab_type": "text"
      },
      "source": [
        "Let's turn that dataset into a form of \"logs\", obbeying the rule\n",
        "\n",
        "_movieID_, _customerID_, _rate_:"
      ]
    },
    {
      "cell_type": "code",
      "metadata": {
        "id": "TDuzhF2-bdwg",
        "colab_type": "code",
        "colab": {}
      },
      "source": [
        "training_set_example = np.array([[1,2,1],[2,2,5],[3,2,4],[5,2,3],\n",
        "                         [6,2,4],[1,3,5],[2,3,2],[4,3,2],\n",
        "                         [5,3,1],[1,4,3],[3,4,2],[4,4,2],\n",
        "                         [6,4,4]])\n",
        "training_set_example_list = training_set_example.tolist()\n",
        "\n",
        "testing_instance = np.array([[1,1,2],[3,1,4],[4,1,4],[6,1,5]])                     "
      ],
      "execution_count": 0,
      "outputs": []
    },
    {
      "cell_type": "code",
      "metadata": {
        "id": "gqOJhWvFbUmd",
        "colab_type": "code",
        "colab": {}
      },
      "source": [
        "usuario_2 = mtxslv_user_ratings(2,training_set_example)\n",
        "usuario_3 = mtxslv_user_ratings(3,training_set_example)\n",
        "usuario_4 = mtxslv_user_ratings(4,training_set_example)"
      ],
      "execution_count": 0,
      "outputs": []
    },
    {
      "cell_type": "code",
      "metadata": {
        "id": "syYumQqo_547",
        "colab_type": "code",
        "colab": {
          "base_uri": "https://localhost:8080/",
          "height": 104
        },
        "outputId": "159d9256-2870-4820-a519-548618dffa38"
      },
      "source": [
        "usuario_2"
      ],
      "execution_count": 75,
      "outputs": [
        {
          "output_type": "execute_result",
          "data": {
            "text/plain": [
              "array([[1, 2, 1],\n",
              "       [2, 2, 5],\n",
              "       [3, 2, 4],\n",
              "       [5, 2, 3],\n",
              "       [6, 2, 4]])"
            ]
          },
          "metadata": {
            "tags": []
          },
          "execution_count": 75
        }
      ]
    },
    {
      "cell_type": "code",
      "metadata": {
        "id": "ryYCuP8KgtWw",
        "colab_type": "code",
        "outputId": "b8cc31ae-900c-4cd3-e805-5a8498e071ff",
        "colab": {
          "base_uri": "https://localhost:8080/",
          "height": 243
        }
      },
      "source": [
        "training_set_example"
      ],
      "execution_count": 76,
      "outputs": [
        {
          "output_type": "execute_result",
          "data": {
            "text/plain": [
              "array([[1, 2, 1],\n",
              "       [2, 2, 5],\n",
              "       [3, 2, 4],\n",
              "       [5, 2, 3],\n",
              "       [6, 2, 4],\n",
              "       [1, 3, 5],\n",
              "       [2, 3, 2],\n",
              "       [4, 3, 2],\n",
              "       [5, 3, 1],\n",
              "       [1, 4, 3],\n",
              "       [3, 4, 2],\n",
              "       [4, 4, 2],\n",
              "       [6, 4, 4]])"
            ]
          },
          "metadata": {
            "tags": []
          },
          "execution_count": 76
        }
      ]
    },
    {
      "cell_type": "code",
      "metadata": {
        "id": "S6tQ1j4kh_me",
        "colab_type": "code",
        "colab": {}
      },
      "source": [
        "estimativa = mtxslv_collab_filter(testing_instance,5,training_set_example)"
      ],
      "execution_count": 0,
      "outputs": []
    },
    {
      "cell_type": "code",
      "metadata": {
        "id": "wQgpKXcsL2lE",
        "colab_type": "code",
        "colab": {
          "base_uri": "https://localhost:8080/",
          "height": 34
        },
        "outputId": "be83d4f7-1684-43ae-c508-e0853730b016"
      },
      "source": [
        "estimativa"
      ],
      "execution_count": 78,
      "outputs": [
        {
          "output_type": "execute_result",
          "data": {
            "text/plain": [
              "4.336096188777122"
            ]
          },
          "metadata": {
            "tags": []
          },
          "execution_count": 78
        }
      ]
    },
    {
      "cell_type": "markdown",
      "metadata": {
        "id": "jvbGlZn8nOKo",
        "colab_type": "text"
      },
      "source": [
        "## REFERENCES:\n",
        "\n",
        "* https://stackoverflow.com/questions/21860605/python-remove-lists-from-list-of-lists-similar-functionality-to-pop\n",
        "\n",
        "* https://www.geeksforgeeks.org/python-intersection-two-lists/\n",
        "\n",
        "* https://www.programiz.com/python-programming/methods/list/index"
      ]
    }
  ]
}