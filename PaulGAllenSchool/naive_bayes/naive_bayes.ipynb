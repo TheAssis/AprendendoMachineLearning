{
  "nbformat": 4,
  "nbformat_minor": 0,
  "metadata": {
    "colab": {
      "name": "naive_bayes.ipynb",
      "provenance": [],
      "collapsed_sections": []
    },
    "kernelspec": {
      "name": "python3",
      "display_name": "Python 3"
    }
  },
  "cells": [
    {
      "cell_type": "markdown",
      "metadata": {
        "id": "pigE9xWzzWah",
        "colab_type": "text"
      },
      "source": [
        "The algorithm is the aplication of the following rule:$$\\DeclareMathOperator*{\\argmax}{argmax}$$\n",
        "\n",
        "> Consider target function can assume any $v_i$ value in V. We want to classify the instance by assigning the most probable target value $v_{map}$ to it. We calculate \"the most probable target value\" given the attribute values $<a_1,...,a_n>$.  \n",
        "\n",
        "> $$v_{map} = \\argmax_{v_i \\in V} P(v_j| a_1,...,a_n)$$\n",
        "\n",
        "We make some assumptions to come up with the **Naive Bayes Classifier**:\n",
        "\n",
        "$$v_{nb} = \\argmax_{v_j \\in V} P(v_j)\\prod _i P(a_i|v_j)$$"
      ]
    },
    {
      "cell_type": "code",
      "metadata": {
        "id": "xPIK20FQl1B8",
        "colab_type": "code",
        "colab": {}
      },
      "source": [
        "import numpy as np\n",
        "import pandas as pd\n",
        "\n",
        "def naive_bayes(dataset,instance):\n",
        "  \"\"\"\n",
        "  Parameters: the dataset (a pandas dataframe, with classes as the last column) and the instance to be classified (a list)\n",
        "  Returns: v_map (the most probable class of the instance, given its attributes)\n",
        "  \"\"\"\n",
        "  v_map = 'idk'\n",
        "\n",
        "  existing_classes = list(set(dataset.iloc[:,-1].tolist())) # this is the v_j \\in V\n",
        "  classes_probability = []\n",
        "\n",
        "  for v in existing_classes:\n",
        "    P_vj = dataset.iloc[:,-1].values.tolist().count(v) / dataset.iloc[:,-1].shape[0]\n",
        "    prod = 1\n",
        "    subset = dataset[dataset[dataset.columns.tolist()[-1]] == v]\n",
        "    for it in range(0, len(instance)):\n",
        "      counting_occurence = subset.iloc[:,it].tolist().count(instance[it])\n",
        "      prod = prod *(counting_occurence/subset.shape[0])\n",
        "    classes_probability.append(P_vj*prod)\n",
        "\n",
        "  v_map = existing_classes[np.argmax(classes_probability)]\n",
        "\n",
        "  return v_map"
      ],
      "execution_count": null,
      "outputs": []
    },
    {
      "cell_type": "markdown",
      "metadata": {
        "id": "rPGH7-LdpKT1",
        "colab_type": "text"
      },
      "source": [
        "## References:\n",
        "\n",
        "- [Creating a Pandas Dataframe](https://pandas.pydata.org/pandas-docs/version/0.23.4/generated/pandas.DataFrame.html)\n",
        "- [Counting Occurences in pandas series](https://stackoverflow.com/questions/35277075/python-pandas-counting-the-occurrences-of-a-specific-value)\n",
        "- [Counting Occurences in lists](https://www.guru99.com/python-list-count.html)\n",
        "- [Getting Pandas Dataframe Column Name](https://www.geeksforgeeks.org/how-to-get-column-names-in-pandas-dataframe/)"
      ]
    }
  ]
}